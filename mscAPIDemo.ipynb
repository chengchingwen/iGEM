{
 "cells": [
  {
   "cell_type": "code",
   "execution_count": 77,
   "metadata": {
    "collapsed": false
   },
   "outputs": [],
   "source": [
    "import requests as rq\n",
    "import socket as soc\n",
    "import threading as thr\n",
    "import logging as lg\n",
    "import datetime as d"
   ]
  },
  {
   "cell_type": "code",
   "execution_count": 78,
   "metadata": {
    "collapsed": true
   },
   "outputs": [],
   "source": [
    "device_info = {\n",
    "    'id':\"DiqkAJto\",\n",
    "    'key':\"o9SYV30D11Z0D8wN\",\n",
    "    }\n",
    "\n",
    "DISPLAY = 2338\n",
    "SELECT = 2293"
   ]
  },
  {
   "cell_type": "code",
   "execution_count": 79,
   "metadata": {
    "collapsed": true
   },
   "outputs": [],
   "source": [
    "lg.basicConfig(level = lg.INFO)"
   ]
  },
  {
   "cell_type": "code",
   "execution_count": 80,
   "metadata": {
    "collapsed": false
   },
   "outputs": [],
   "source": [
    "def upload(data):\n",
    "    uploadAPI = 'https://api.mediatek.com/mcs/v2/devices/%(id)s/datapoints.csv'\n",
    "    up_load_data = '2338,,'+str(data)\n",
    "    r = rq.post(uploadAPI % device_info, data = up_load_data,\n",
    "                 headers = {'deviceKey' : device_info['key'],\n",
    "                            'Content-Type' : 'text/csv',\n",
    "                            }\n",
    "          )\n",
    "    lg.info(\"upload data (%s) to sever...\\n\" % str(data) +r.text)\n",
    "    print(r.text)"
   ]
  },
  {
   "cell_type": "code",
   "execution_count": 81,
   "metadata": {
    "collapsed": false
   },
   "outputs": [
    {
     "name": "stdout",
     "output_type": "stream",
     "text": [
      "Success.\n"
     ]
    }
   ],
   "source": [
    "upload(197.67)"
   ]
  },
  {
   "cell_type": "code",
   "execution_count": 82,
   "metadata": {
    "collapsed": false
   },
   "outputs": [
    {
     "name": "stdout",
     "output_type": "stream",
     "text": [
      "400,None of data points uploaded success.\n"
     ]
    }
   ],
   "source": [
    "upload('a')"
   ]
  },
  {
   "cell_type": "code",
   "execution_count": 83,
   "metadata": {
    "collapsed": false
   },
   "outputs": [],
   "source": [
    "def query( chn, limit=1):\n",
    "    API = 'https://api.mediatek.com/mcs/v2/devices/%(id)s/datachannels/{0}/datapoints.csv'.format(chn)\n",
    "    API += '?limit=%d' % limit\n",
    "    print(API%device_info)\n",
    "    r = rq.get(API % device_info,\n",
    "                 headers = {'deviceKey' : device_info['key'],\n",
    "                            'Content-Type' : 'text/csv',\n",
    "                            }\n",
    "          )\n",
    "    print(r.text)"
   ]
  },
  {
   "cell_type": "code",
   "execution_count": 84,
   "metadata": {
    "collapsed": false
   },
   "outputs": [
    {
     "name": "stdout",
     "output_type": "stream",
     "text": [
      "https://api.mediatek.com/mcs/v2/devices/DiqkAJto/datachannels/2338/datapoints.csv?limit=1\n",
      "2338,1470231183274,197.67\n"
     ]
    }
   ],
   "source": [
    "query(DISPLAY)"
   ]
  },
  {
   "cell_type": "code",
   "execution_count": 85,
   "metadata": {
    "collapsed": false
   },
   "outputs": [
    {
     "name": "stdout",
     "output_type": "stream",
     "text": [
      "https://api.mediatek.com/mcs/v2/devices/DiqkAJto/datachannels/2338/datapoints.csv?limit=100\n",
      "2338,1470150987594,0.123\n",
      "2338,1470151290713,13.5\n",
      "2338,1470151389465,13.5\n",
      "2338,1470151402683,13.5\n",
      "2338,1470151417666,23\n",
      "2338,1470151496116,123.6\n",
      "2338,1470151701860,123.6\n",
      "2338,1470151788918,123.6\n",
      "2338,1470151812284,123.6\n",
      "2338,1470151819931,123.6\n",
      "2338,1470151835665,123.6\n",
      "2338,1470151845501,123.6\n",
      "2338,1470151872219,123.6\n",
      "2338,1470152131378,123.6\n",
      "2338,1470152140511,34\n",
      "2338,1470153497113,34\n",
      "2338,1470158151466,34\n",
      "2338,1470158208787,12.91\n",
      "2338,1470194780105,12.91\n",
      "2338,1470195166144,110\n",
      "2338,1470195284983,197.67\n",
      "2338,1470230897568,197.67\n",
      "2338,1470231034366,197.67\n",
      "2338,1470231183274,197.67\n"
     ]
    }
   ],
   "source": [
    "query(DISPLAY, 100)"
   ]
  },
  {
   "cell_type": "code",
   "execution_count": 86,
   "metadata": {
    "collapsed": false
   },
   "outputs": [
    {
     "name": "stdout",
     "output_type": "stream",
     "text": [
      "https://api.mediatek.com/mcs/v2/devices/DiqkAJto/datachannels/2293/datapoints.csv?limit=1\n",
      "2293,1470200615727,N\n"
     ]
    }
   ],
   "source": [
    "query(SELECT)"
   ]
  },
  {
   "cell_type": "code",
   "execution_count": 87,
   "metadata": {
    "collapsed": false
   },
   "outputs": [
    {
     "name": "stdout",
     "output_type": "stream",
     "text": [
      "https://api.mediatek.com/mcs/v2/devices/DiqkAJto/datachannels/2293/datapoints.csv?limit=100\n",
      "2293,1470143614732,asoishdofh\n",
      "2293,1470143638786,I hate you guys\n",
      "2293,1470143674251,hell no\n",
      "2293,1470143704449,hell no\n",
      "2293,1470143748646,hell no\n",
      "2293,1470143763861,hell nonooooo\n",
      "2293,1470195045689,Hes\n",
      "2293,1470195301131,Omg\n",
      "2293,1470195315223,NoooooooOmg\n",
      "2293,1470200609306,NoooooooOmg\n",
      "2293,1470200610503,NoooooooOmg\n",
      "2293,1470200615727,N\n"
     ]
    }
   ],
   "source": [
    "query(SELECT, 100)"
   ]
  },
  {
   "cell_type": "code",
   "execution_count": null,
   "metadata": {
    "collapsed": false
   },
   "outputs": [],
   "source": [
    "\n"
   ]
  },
  {
   "cell_type": "code",
   "execution_count": null,
   "metadata": {
    "collapsed": true
   },
   "outputs": [],
   "source": []
  },
  {
   "cell_type": "code",
   "execution_count": null,
   "metadata": {
    "collapsed": false
   },
   "outputs": [],
   "source": []
  },
  {
   "cell_type": "code",
   "execution_count": null,
   "metadata": {
    "collapsed": false
   },
   "outputs": [],
   "source": []
  },
  {
   "cell_type": "code",
   "execution_count": null,
   "metadata": {
    "collapsed": true
   },
   "outputs": [],
   "source": []
  }
 ],
 "metadata": {
  "kernelspec": {
   "display_name": "Python 3",
   "language": "python",
   "name": "python3"
  },
  "language_info": {
   "codemirror_mode": {
    "name": "ipython",
    "version": 3
   },
   "file_extension": ".py",
   "mimetype": "text/x-python",
   "name": "python",
   "nbconvert_exporter": "python",
   "pygments_lexer": "ipython3",
   "version": "3.5.1"
  }
 },
 "nbformat": 4,
 "nbformat_minor": 0
}
